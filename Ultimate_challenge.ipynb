{
 "cells": [
  {
   "cell_type": "code",
   "execution_count": 1,
   "metadata": {},
   "outputs": [],
   "source": [
    "import json\n",
    "import time\n",
    "import pandas as pd\n",
    "import numpy as np\n",
    "from pandas.io.json import json_normalize\n",
    "import matplotlib.pyplot as plt\n"
   ]
  },
  {
   "cell_type": "code",
   "execution_count": 2,
   "metadata": {
    "scrolled": true
   },
   "outputs": [
    {
     "name": "stdout",
     "output_type": "stream",
     "text": [
      "888 9381\n",
      "999 [80 81 82 ... 9865 9866 9867]\n",
      "            login_count login_time\n",
      "login_time                        \n",
      "80                    2         80\n",
      "81                    6         81\n",
      "82                    9         82\n",
      "83                    7         83\n",
      "84                    1         85\n",
      "...                 ...        ...\n",
      "9863                  5       9863\n",
      "9864                  5       9864\n",
      "9865                  2       9865\n",
      "9866                  7       9866\n",
      "9867                  6       9867\n",
      "\n",
      "[9381 rows x 2 columns]\n"
     ]
    }
   ],
   "source": [
    "\n",
    "## Part I\n",
    "\n",
    "%matplotlib inline\n",
    "\n",
    "loginf = open('./logins.json', \"r\")\n",
    "logins = json.load(loginf)\n",
    "    \n",
    "logins_data_df = pd.DataFrame(columns=['login_time'], data=logins)\n",
    "#logins_data_df['loginSlot'] = 0\n",
    "logins_data_df['login_count'] = 1;\n",
    "#print(logins_data_df)\n",
    "\n",
    "login_time_list = []\n",
    "for i in range(len(logins_data_df)) :\n",
    "    time1 = pd.Timestamp(logins_data_df['login_time'].iloc[i])\n",
    "    logins_data_df['login_time'].at[i] = (time1 - pd.Timestamp(\"1970-01-01 00:00:00\")) // pd.Timedelta('900s')\n",
    "login_df1 = pd.DataFrame(columns=['login_count'], data=logins_data_df.groupby(['login_time']).count())\n",
    "print(\"888\", len(login_df1))\n",
    "login_time_unique_df = logins_data_df['login_time'].unique() \n",
    "print(\"999\", login_time_unique_df)\n",
    "login_df1['login_time'] = login_time_unique_df\n",
    "print(login_df1)\n",
    "\n",
    "# login_df1 has two colums: login_time and login_count\n",
    "# login_time signifies the nth 15 minute interval since 1970-01-01 00:00:00\n",
    "# login count specifies the number of users logged in at login_time 15 minute interval )\n"
   ]
  },
  {
   "cell_type": "code",
   "execution_count": 3,
   "metadata": {},
   "outputs": [
    {
     "data": {
      "image/png": "[encoded data removed]",
      "text/plain": [
       "<Figure size 432x288 with 1 Axes>"
      ]
     },
     "metadata": {
      "needs_background": "light"
     },
     "output_type": "display_data"
    }
   ],
   "source": [
    "login_df1.plot(kind='line', x='login_time',  y='login_count')\n",
    "plt.show()\n"
   ]
  },
  {
   "cell_type": "code",
   "execution_count": 4,
   "metadata": {},
   "outputs": [
    {
     "data": {
      "text/plain": [
       "'\\nThe neighboring cities of Gotham and Metropolis have complementary circadian rhythms: on\\nweekdays, Ultimate Gotham is most active at night, and Ultimate Metropolis is most active\\nduring the day. On weekends, there is reasonable activity in both cities.\\n\\nHowever, a toll bridge, with a two-way toll, between the two cities causes driver partners to tend\\nto be exclusive to each city. The Ultimate managers of city operations for the two cities have\\nproposed an experiment to encourage driver partners to be available in both cities, by\\nreimbursing all toll costs.\\n    1. What would you choose as the key measure of success of this experiment in \\n       encouraging driver partners to serve both cities, and why would you choose this metric?\\n        - encourage a driver who is free and nearest to the bridge to take a ride to the other city \\n          if there is demand in the other city. \\n        - A driver who is at the far end (from the bridge) can take a ride from nearest to his\\n          location\\n        - A driver who is midway in the city, can take a ride from other city if there is\\n          low demand in his location (city) and high demand in the other city.\\n        - Since the demands are going to be based on teh circadian rhythms, the rules for taking rides\\n          from the other cities will be most beneficial in teh eveninga and mornings. In praticular\\n            the drivers from Metropolis will start taking rides from Gotham, startingnight time and the\\n            drivers from Gothan will start taking rides from Metropolis starting mornings, until \\n            the demand in the city to which the drivers have transitioned, is met to a good gegree.\\n          \\n    2. Describe a practical experiment you would design to compare the effectiveness of \\n       the proposed change in relation to the key measure of success. Please provide details on:\\n        a. how you will implement the experiment\\n        b. what statistical test(s) you will conduct to verify the significance of the observation\\n        c. how you would interpret the results and provide recommendations to the city operations \\n           team along with any caveats.\\n            \\n        - The experiment will be implemented by measuring demand in each city (particularly) near\\n        the transition times (mornings ad evenings). If there is demand that is not met in a city,\\n        the drivers from other city will be compensated for toll for taking rides to/from other cities.\\n        \\n        - We can measure/calculate various metrics such as \\n        1. Total revenue under existing conditions as against revenue when the experiment is \\n        implemented\\n        2. Total number of rides under existing and new conditions\\n        3. Total wait time for customers\\n        4. Average earnings per driver\\n        \\n'"
      ]
     },
     "execution_count": 4,
     "metadata": {},
     "output_type": "execute_result"
    }
   ],
   "source": [
    "### Part II ‐ Experiment and metrics design\n",
    "'''\n",
    "The neighboring cities of Gotham and Metropolis have complementary circadian rhythms: on\n",
    "weekdays, Ultimate Gotham is most active at night, and Ultimate Metropolis is most active\n",
    "during the day. On weekends, there is reasonable activity in both cities.\n",
    "\n",
    "However, a toll bridge, with a two-way toll, between the two cities causes driver partners to tend\n",
    "to be exclusive to each city. The Ultimate managers of city operations for the two cities have\n",
    "proposed an experiment to encourage driver partners to be available in both cities, by\n",
    "reimbursing all toll costs.\n",
    "    1. What would you choose as the key measure of success of this experiment in \n",
    "       encouraging driver partners to serve both cities, and why would you choose this metric?\n",
    "        - encourage a driver who is free and nearest to the bridge to take a ride to the other city \n",
    "          if there is demand in the other city. \n",
    "        - A driver who is at the far end (from the bridge) can take a ride from nearest to his\n",
    "          location\n",
    "        - A driver who is midway in the city, can take a ride from other city if there is\n",
    "          low demand in his location (city) and high demand in the other city.\n",
    "        - Since the demands are going to be based on teh circadian rhythms, the rules for taking rides\n",
    "          from the other cities will be most beneficial in teh eveninga and mornings. In praticular\n",
    "            the drivers from Metropolis will start taking rides from Gotham, startingnight time and the\n",
    "            drivers from Gothan will start taking rides from Metropolis starting mornings, until \n",
    "            the demand in the city to which the drivers have transitioned, is met to a good gegree.\n",
    "          \n",
    "    2. Describe a practical experiment you would design to compare the effectiveness of \n",
    "       the proposed change in relation to the key measure of success. Please provide details on:\n",
    "        a. how you will implement the experiment\n",
    "        b. what statistical test(s) you will conduct to verify the significance of the observation\n",
    "        c. how you would interpret the results and provide recommendations to the city operations \n",
    "           team along with any caveats.\n",
    "            \n",
    "        - The experiment will be implemented by measuring demand in each city (particularly) near\n",
    "        the transition times (mornings ad evenings). If there is demand that is not met in a city,\n",
    "        the drivers from other city will be compensated for toll for taking rides to/from other cities.\n",
    "        \n",
    "        - We can measure/calculate various metrics such as \n",
    "        1. Total revenue under existing conditions as against revenue when the experiment is \n",
    "        implemented\n",
    "        2. Total number of rides under existing and new conditions\n",
    "        3. Total wait time for customers\n",
    "        4. Average earnings per driver\n",
    "        \n",
    "'''\n",
    "        "
   ]
  },
  {
   "cell_type": "code",
   "execution_count": 5,
   "metadata": {},
   "outputs": [
    {
     "name": "stdout",
     "output_type": "stream",
     "text": [
      "111  50000\n",
      "                 city    phone  trips_in_first_30_days signup_date  \\\n",
      "0      King's Landing   iPhone                       4  2014-01-25   \n",
      "1             Astapor  Android                       0  2014-01-29   \n",
      "2             Astapor   iPhone                       3  2014-01-06   \n",
      "3      King's Landing   iPhone                       9  2014-01-10   \n",
      "4          Winterfell  Android                      14  2014-01-27   \n",
      "...               ...      ...                     ...         ...   \n",
      "49995  King's Landing   iPhone                       0  2014-01-25   \n",
      "49996         Astapor   iPhone                       1  2014-01-24   \n",
      "49997      Winterfell  Android                       0  2014-01-31   \n",
      "49998         Astapor   iPhone                       2  2014-01-14   \n",
      "49999         Astapor  Android                       0  2014-01-18   \n",
      "\n",
      "       avg_rating_of_driver  avg_surge last_trip_date  surge_pct  \\\n",
      "0                       4.7       1.10     2014-06-17       15.4   \n",
      "1                       5.0       1.00     2014-05-05        0.0   \n",
      "2                       4.3       1.00     2014-01-07        0.0   \n",
      "3                       4.6       1.14     2014-06-29       20.0   \n",
      "4                       4.4       1.19     2014-03-15       11.8   \n",
      "...                     ...        ...            ...        ...   \n",
      "49995                   5.0       1.00     2014-06-05        0.0   \n",
      "49996                   NaN       1.00     2014-01-25        0.0   \n",
      "49997                   5.0       1.00     2014-05-22        0.0   \n",
      "49998                   3.0       1.00     2014-01-15        0.0   \n",
      "49999                   NaN       1.00     2014-04-20        0.0   \n",
      "\n",
      "       ultimate_black_user  weekday_pct  avg_dist  avg_rating_by_driver  \n",
      "0                     True         46.2      3.67                   5.0  \n",
      "1                    False         50.0      8.26                   5.0  \n",
      "2                    False        100.0      0.77                   5.0  \n",
      "3                     True         80.0      2.36                   4.9  \n",
      "4                    False         82.4      3.13                   4.9  \n",
      "...                    ...          ...       ...                   ...  \n",
      "49995                False        100.0      5.63                   4.2  \n",
      "49996                False          0.0      0.00                   4.0  \n",
      "49997                 True        100.0      3.86                   5.0  \n",
      "49998                False        100.0      4.58                   3.5  \n",
      "49999                False          0.0      3.49                   5.0  \n",
      "\n",
      "[50000 rows x 12 columns]\n"
     ]
    }
   ],
   "source": [
    "## Part III\n",
    "\n",
    "dataf = open('./ultimate_data_challenge.json', \"r\")\n",
    "datastr = json.load(dataf)\n",
    "\n",
    "# infer_dates=['signup_date', 'last_trip_date']\n",
    "challenge_data_df = pd.DataFrame(columns=['city', 'phone', 'trips_in_first_30_days', \\\n",
    "    'signup_date', 'avg_rating_of_driver', 'avg_surge', 'last_trip_date', \\\n",
    "    'surge_pct', 'ultimate_black_user', 'weekday_pct', \\\n",
    "    'avg_dist', 'avg_rating_by_driver'], data=datastr)\n",
    "\n",
    "print(\"111 \", len(challenge_data_df))\n",
    "print(challenge_data_df)\n",
    "\n"
   ]
  },
  {
   "cell_type": "code",
   "execution_count": 6,
   "metadata": {},
   "outputs": [
    {
     "data": {
      "text/plain": [
       "'\\nUltimate is interested in predicting rider retention. To help explore this question, we have\\nprovided a sample dataset of a cohort of users who signed up for an Ultimate account in\\nJanuary 2014. The data was pulled several months later; we consider a user retained if they\\nwere “active” (i.e. took a trip) in the preceding 30 days.\\n\\nWe would like you to use this data set to help understand what factors are the best predictors\\nfor retention, and offer suggestions to operationalize those insights to help Ultimate.\\n\\nThe data is in the attached file ultimate_data_challenge.json. See below for a detailed\\ndescription of the dataset. Please include any code you wrote for the analysis and delete the\\ndataset when you have finished with the challenge.\\n\\n1. Perform any cleaning, exploratory analysis, and/or visualizations to use the provided\\ndata for this analysis (a few sentences/plots describing your approach will suffice). What\\nfraction of the observed users were retained?\\n\\n2. Build a predictive model to help Ultimate determine whether or not a user will be active\\nin their 6th month on the system. Discuss why you chose your approach, what\\nalternatives you considered, and any concerns you have. How valid is your model?\\nInclude any key indicators of model performance.\\n\\n3. Briefly discuss how Ultimate might leverage the insights gained from the model to\\nimprove its long-term rider retention (again, a few sentences will suffice).\\n'"
      ]
     },
     "execution_count": 6,
     "metadata": {},
     "output_type": "execute_result"
    }
   ],
   "source": [
    "### Part 3 ‐ Predictive modeling\n",
    "'''\n",
    "Ultimate is interested in predicting rider retention. To help explore this question, we have\n",
    "provided a sample dataset of a cohort of users who signed up for an Ultimate account in\n",
    "January 2014. The data was pulled several months later; we consider a user retained if they\n",
    "were “active” (i.e. took a trip) in the preceding 30 days.\n",
    "\n",
    "We would like you to use this data set to help understand what factors are the best predictors\n",
    "for retention, and offer suggestions to operationalize those insights to help Ultimate.\n",
    "\n",
    "The data is in the attached file ultimate_data_challenge.json. See below for a detailed\n",
    "description of the dataset. Please include any code you wrote for the analysis and delete the\n",
    "dataset when you have finished with the challenge.\n",
    "\n",
    "1. Perform any cleaning, exploratory analysis, and/or visualizations to use the provided\n",
    "data for this analysis (a few sentences/plots describing your approach will suffice). What\n",
    "fraction of the observed users were retained?\n",
    "\n",
    "2. Build a predictive model to help Ultimate determine whether or not a user will be active\n",
    "in their 6th month on the system. Discuss why you chose your approach, what\n",
    "alternatives you considered, and any concerns you have. How valid is your model?\n",
    "Include any key indicators of model performance.\n",
    "\n",
    "3. Briefly discuss how Ultimate might leverage the insights gained from the model to\n",
    "improve its long-term rider retention (again, a few sentences will suffice).\n",
    "'''"
   ]
  },
  {
   "cell_type": "code",
   "execution_count": 7,
   "metadata": {},
   "outputs": [
    {
     "data": {
      "text/plain": [
       "'\\nData cleaning\\n  \\'city\\', \\'phone\\', \\'trips_in_first_30_days\\', \\n    \\'signup_date\\', \\'avg_rating_of_driver\\', \\'avg_surge\\', \\'last_trip_date\\', \\n    \\'surge_pct\\', \\'ultimate_black_user\\', \\'weekday_pct\\', \\n    \\'avg_dist\\', \\'avg_rating_by_driver\\'\\n\\n -If City is NULL or NaN convert to \"Shangrila\"\\n -Ignore signup date as this is not likely to systematically affect retention\\n -\\'phone is a categorical variable - can encode as  one-hot vector\\n -If \\'avg_rating_of_driver\\' if NaN - drop row - This is an important variable and putting \\n     an arbitrary value such as 0 or 0-1 will give biased inference\\n -The same is true for \\'avg_rating_by_driver\\'\\n -If \\'avg_surge\\' is NaN or missing, put it as 1.0\\n -Drop the record if \\'last_trip_date\\' is missing or NaN. This is important since it will \\n     be converted to target categorical variable \\'retention\"\\n -\\'ultimate_black_user\\' is a categorical variable\\n -\\'avg_dist - if missing or NaN replace my mean(avg_dist) over the whole population\\n -\\'weekday_pct - if missing or NaN replace my mean(weekday_pct) over the whole population\\n '"
      ]
     },
     "execution_count": 7,
     "metadata": {},
     "output_type": "execute_result"
    }
   ],
   "source": [
    "'''\n",
    "Data cleaning\n",
    "  'city', 'phone', 'trips_in_first_30_days', \n",
    "    'signup_date', 'avg_rating_of_driver', 'avg_surge', 'last_trip_date', \n",
    "    'surge_pct', 'ultimate_black_user', 'weekday_pct', \n",
    "    'avg_dist', 'avg_rating_by_driver'\n",
    "\n",
    " -If City is NULL or NaN convert to \"Shangrila\"\n",
    " -Ignore signup date as this is not likely to systematically affect retention\n",
    " -'phone is a categorical variable - can encode as  one-hot vector\n",
    " -If 'avg_rating_of_driver' if NaN - drop row - This is an important variable and putting \n",
    "     an arbitrary value such as 0 or 0-1 will give biased inference\n",
    " -The same is true for 'avg_rating_by_driver'\n",
    " -If 'avg_surge' is NaN or missing, put it as 1.0\n",
    " -Drop the record if 'last_trip_date' is missing or NaN. This is important since it will \n",
    "     be converted to target categorical variable 'retention\"\n",
    " -'ultimate_black_user' is a categorical variable\n",
    " -'avg_dist - if missing or NaN replace my mean(avg_dist) over the whole population\n",
    " -'weekday_pct - if missing or NaN replace my mean(weekday_pct) over the whole population\n",
    " '''\n",
    "\n"
   ]
  },
  {
   "cell_type": "code",
   "execution_count": 8,
   "metadata": {},
   "outputs": [
    {
     "name": "stdout",
     "output_type": "stream",
     "text": [
      "len challenge_database =  50000\n",
      "last_database_datetime =  2014-04-20 00:00:00\n",
      "Fraction retained =  65.06\n"
     ]
    }
   ],
   "source": [
    "# Find Max date in the 'last_trip_date'. \n",
    "# We will assign a user is retained if S/he has taken a ride in the 30 days preceding this last date.\n",
    "#\n",
    "\n",
    "len_database = len(challenge_data_df)\n",
    "print(\"len challenge_database = \", len_database)\n",
    "\n",
    "ts = challenge_data_df['last_trip_date']\n",
    "\n",
    "date1 = pd.to_datetime(challenge_data_df['last_trip_date'].iloc[0])\n",
    "for i in range(1, len_database) :\n",
    "    date2 = pd.to_datetime(challenge_data_df['last_trip_date'].iloc[i])\n",
    "    if (date2 < date1) :\n",
    "        date1 = date2\n",
    "        \n",
    "last_database_datetime = date2\n",
    "print(\"last_database_datetime = \", last_database_datetime)\n",
    "retained = 0\n",
    "for i in range(len_database) :\n",
    "    last_trip_date_time =  pd.to_datetime(challenge_data_df['last_trip_date'].iloc[i])\n",
    "    days_since_last_trip = (last_database_datetime - last_trip_date_time) // pd.Timedelta('86400s')\n",
    "    if (days_since_last_trip < 30)  :\n",
    "            retained = retained + 1\n",
    "\n",
    "print(\"Fraction retained = \", retained*100.0/len_database)"
   ]
  },
  {
   "cell_type": "code",
   "execution_count": 9,
   "metadata": {},
   "outputs": [],
   "source": [
    "### Part III cont.\n",
    "# There are a few important continuous variables such as avg_dist, avg_rating_by_driver, \n",
    "# avg_rating_of_driver, trips_in_first_30_days, weekday_pct: and the target is binary,\n",
    "# so logistic regresion seems to be a good model. \n",
    "\n",
    "# When we train the model we get weights for the features. Higher the weights, more important\n",
    "# is the variable. Off course we need to take care of normalization of the input variable. "
   ]
  }
 ],
 "metadata": {
  "kernelspec": {
   "display_name": "Python 3",
   "language": "python",
   "name": "python3"
  },
  "language_info": {
   "codemirror_mode": {
    "name": "ipython",
    "version": 3
   },
   "file_extension": ".py",
   "mimetype": "text/x-python",
   "name": "python",
   "nbconvert_exporter": "python",
   "pygments_lexer": "ipython3",
   "version": "3.6.10"
  }
 },
 "nbformat": 4,
 "nbformat_minor": 4
}
